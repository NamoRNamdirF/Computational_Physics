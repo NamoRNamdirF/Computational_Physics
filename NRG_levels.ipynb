class 11:
    def __init__(self, f):
        self.f = f
        self.memo = {}
        
    def __call__(self, *args):
        if args not in self.memo.keys():
            self.memo[args] = self.f(*args)
        
        return self.memo[args]
@11
def factorial(n):
    return 1 if n == 0 else n * factorial(n - 1)
@11
def Hermite(n, x):
    if n == 0:
        return 1
    
    hermite_v = [1, 2 * x]
    
    for m in range(2, n + 1):
        hermite_v.append(
            2 * x * hermite_v[m - 1] - 2 * (m - 1) * hermite_v[m - 2]
        )
        
    return hermite_v[n]
@11
def Psi(n, x):
    return (
        pow(pi, -0.25) * 
        pow(2.0, -0.5 * n) *
        pow(factorial(n), -0.5) *
        Hermite(n, x) *
        exp(-0.5*pow(x,2))
    )
%matplotlib inline
from distutils.spawn import find_executable

from matplotlib.font_manager import *
from matplotlib.collections import *
from matplotlib.patches import *
from matplotlib.pylab import *
from matplotlib import colors

import seaborn


rem = 12

seaborn.set(context='notebook', style='darkgrid')

ioff()

rc('lines', linewidth=1)
rc('font', family='serif')
rc('font', size=rem)
rc('axes', titlepad=1.500*rem)
rc('axes', titlesize=1.728*rem)
rc('axes', labelsize=1.200*rem)
rc('legend', fontsize=1.000*rem)
rc('xtick', labelsize=0.833*rem)
rc('ytick', labelsize=0.833*rem)

if find_executable('latex'):
    rc('text', usetex=True)

material_palette = {
    -1: "#212121",
    0: "#F44336",
    1: "#E91E63",
    2: "#9C27B0",
    3: "#673AB7",
    4: "#3F51B5",
    5: "#2196F3",
    6: "#03A9F4",
    7: "#00BCD4",
    8: "#009688",
    9: "#4CAF50",
    10: "#8BC34A",
    11: "#CDDC39",
    12: "#FFEB3B",
    13: "#FFC107",
    14: "#FF9800",
    15: "#FF5722",
}
fig = figure(3, figsize=(9.75, 6.50), frameon=False)

axs = fig.add_subplot('111')

X = linspace(-6, 6, 300)
Y = [0.5*x**2 for x in X]

axs.plot(X, Y, label="$\mathcal{V}(x)=\\frac{1}{2}x^{2}$", color=material_palette[-1], alpha=0.5, linewidth=1)


for n in range(13):
    X = linspace(-6, 6, 300)
    Y = [Psi(n, x)**2 + n + 0.5 for x in X]
    
    axs.fill_between(X, n+0.5, Y, label="$\\left|\mathcal{\psi}_{" + "{0}".format(n) + "}\\right|^{2}$",
                    facecolor=material_palette[n%16], alpha=0.5, color=material_palette[n%16] )

axs.set_xlim(-6, 6)
axs.set_xlabel("$x$")
axs.set_xticks([x for x in range(-6,7)])
axs.set_xticklabels(["${0}$".format(x) for x in range(-6,7)])

axs.set_ylim(-0.5, 13.5)
axs.set_ylabel("$\\left|\mathcal{\psi}_n(x)\\right|^{2} + n + \\frac{1}{2}$")
axs.set_yticks(linspace(-0.5,13.5,15))
axs.set_yticklabels(["${0:.2f}$".format(y) for y in linspace(-0.5,13.5,15)])


axs.legend(loc=10, ncol=7, bbox_to_anchor=(0.5, 1.1), frameon=True)

axs.grid('on')

fig.tight_layout()    
show()
